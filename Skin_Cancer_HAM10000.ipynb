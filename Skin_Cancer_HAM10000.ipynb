{
  "metadata": {
    "kernelspec": {
      "language": "python",
      "display_name": "Python 3",
      "name": "python3"
    },
    "language_info": {
      "name": "python",
      "version": "3.10.14",
      "mimetype": "text/x-python",
      "codemirror_mode": {
        "name": "ipython",
        "version": 3
      },
      "pygments_lexer": "ipython3",
      "nbconvert_exporter": "python",
      "file_extension": ".py"
    },
    "kaggle": {
      "accelerator": "nvidiaTeslaT4",
      "dataSources": [
        {
          "sourceId": 104884,
          "sourceType": "datasetVersion",
          "datasetId": 54339
        }
      ],
      "dockerImageVersionId": 30805,
      "isInternetEnabled": true,
      "language": "python",
      "sourceType": "notebook",
      "isGpuEnabled": true
    },
    "colab": {
      "name": "Skin Cancer: HAM10000",
      "provenance": [],
      "include_colab_link": true
    }
  },
  "nbformat_minor": 0,
  "nbformat": 4,
  "cells": [
    {
      "cell_type": "markdown",
      "metadata": {
        "id": "view-in-github",
        "colab_type": "text"
      },
      "source": [
        "<a href=\"https://colab.research.google.com/github/safi50/Synthetic-Medical-Image-Generation-using-DCGANs/blob/main/Skin_Cancer_HAM10000.ipynb\" target=\"_parent\"><img src=\"https://colab.research.google.com/assets/colab-badge.svg\" alt=\"Open In Colab\"/></a>"
      ]
    },
    {
      "source": [
        "# IMPORTANT: RUN THIS CELL IN ORDER TO IMPORT YOUR KAGGLE DATA SOURCES,\n",
        "# THEN FEEL FREE TO DELETE THIS CELL.\n",
        "# NOTE: THIS NOTEBOOK ENVIRONMENT DIFFERS FROM KAGGLE'S PYTHON\n",
        "# ENVIRONMENT SO THERE MAY BE MISSING LIBRARIES USED BY YOUR\n",
        "# NOTEBOOK.\n",
        "import kagglehub\n",
        "kmader_skin_cancer_mnist_ham10000_path = kagglehub.dataset_download('kmader/skin-cancer-mnist-ham10000')\n",
        "\n",
        "print('Data source import complete.')\n"
      ],
      "metadata": {
        "id": "Obm-Tr9yo1Lz"
      },
      "cell_type": "code",
      "outputs": [],
      "execution_count": null
    },
    {
      "cell_type": "code",
      "source": [
        "import torch\n",
        "import torch.nn as nn\n",
        "import torch.optim as optim\n",
        "from torch.utils.data import DataLoader, Dataset\n",
        "from torchvision import transforms, utils\n",
        "from PIL import Image\n",
        "import os\n",
        "import matplotlib.pyplot as plt"
      ],
      "metadata": {
        "_uuid": "8f2839f25d086af736a60e9eeb907d3b93b6e0e5",
        "_cell_guid": "b1076dfc-b9ad-4769-8c92-a6c4dae69d19",
        "trusted": true,
        "execution": {
          "iopub.status.busy": "2024-12-07T10:14:13.598815Z",
          "iopub.execute_input": "2024-12-07T10:14:13.599446Z",
          "iopub.status.idle": "2024-12-07T10:14:13.603814Z",
          "shell.execute_reply.started": "2024-12-07T10:14:13.59941Z",
          "shell.execute_reply": "2024-12-07T10:14:13.602839Z"
        },
        "id": "GPdRpOPNo1L3"
      },
      "outputs": [],
      "execution_count": null
    },
    {
      "cell_type": "code",
      "source": [
        "import os\n",
        "import shutil\n",
        "import zipfile\n",
        "\n",
        "# Adjust this path based on the actual dataset directory name\n",
        "dataset_name = \"skin-cancer-mnist-ham10000\"  # Replace with the correct name if different\n",
        "image_dir_part1 = f\"/kaggle/input/{dataset_name}/HAM10000_images_part_1\"\n",
        "image_dir_part2 = f\"/kaggle/input/{dataset_name}/HAM10000_images_part_2\"\n",
        "all_images_dir = '/kaggle/working/combined_images'\n",
        "\n",
        "# Create a combined directory for all images\n",
        "os.makedirs(all_images_dir, exist_ok=True)\n",
        "\n",
        "# Combine images from both parts into a single directory\n",
        "for part in [image_dir_part1, image_dir_part2]:\n",
        "    for file in os.listdir(part):\n",
        "        shutil.copy(os.path.join(part, file), os.path.join(all_images_dir, file))\n",
        "\n",
        "print(f\"Images combined into: {all_images_dir}\")\n",
        "\n"
      ],
      "metadata": {
        "trusted": true,
        "execution": {
          "iopub.status.busy": "2024-12-07T10:14:15.108592Z",
          "iopub.execute_input": "2024-12-07T10:14:15.108918Z",
          "iopub.status.idle": "2024-12-07T10:14:38.976409Z",
          "shell.execute_reply.started": "2024-12-07T10:14:15.108889Z",
          "shell.execute_reply": "2024-12-07T10:14:38.975465Z"
        },
        "id": "15Tq_8ATo1L4"
      },
      "outputs": [],
      "execution_count": null
    },
    {
      "cell_type": "code",
      "source": [
        "class HAM10000Dataset(Dataset):\n",
        "    def __init__(self, image_dir, transform=None):\n",
        "        self.image_dir = image_dir\n",
        "        self.transform = transform\n",
        "        self.image_filenames = [img for img in os.listdir(image_dir) if img.endswith(('.png', '.jpg', '.jpeg'))]\n",
        "\n",
        "    def __len__(self):\n",
        "        return len(self.image_filenames)\n",
        "\n",
        "    def __getitem__(self, idx):\n",
        "        img_filename = self.image_filenames[idx]\n",
        "        img_path = os.path.join(self.image_dir, img_filename)\n",
        "\n",
        "        # Load the image\n",
        "        image = Image.open(img_path).convert(\"RGB\")\n",
        "\n",
        "        if self.transform:\n",
        "            image = self.transform(image)\n",
        "\n",
        "        return image\n"
      ],
      "metadata": {
        "trusted": true,
        "execution": {
          "iopub.status.busy": "2024-12-07T10:14:38.978113Z",
          "iopub.execute_input": "2024-12-07T10:14:38.978868Z",
          "iopub.status.idle": "2024-12-07T10:14:38.984889Z",
          "shell.execute_reply.started": "2024-12-07T10:14:38.978826Z",
          "shell.execute_reply": "2024-12-07T10:14:38.983874Z"
        },
        "id": "KWPGol_Bo1L4"
      },
      "outputs": [],
      "execution_count": null
    },
    {
      "cell_type": "code",
      "source": [
        "# Transformation function for images\n",
        "transform = transforms.Compose([\n",
        "    transforms.Resize((64, 64)),\n",
        "    transforms.ToTensor(),\n",
        "    transforms.Normalize([0.5], [0.5])  # Normalize to [-1, 1] for Tanh activation\n",
        "])\n",
        "\n",
        "# Load the dataset\n",
        "train_dataset = HAM10000Dataset(image_dir='/kaggle/working/combined_images', transform=transform)\n",
        "train_loader = DataLoader(train_dataset, batch_size=256, shuffle=True)\n",
        "\n",
        "print(f\"Dataset loaded with {len(train_dataset)} images.\")\n"
      ],
      "metadata": {
        "trusted": true,
        "execution": {
          "iopub.status.busy": "2024-12-07T10:14:39.037052Z",
          "iopub.execute_input": "2024-12-07T10:14:39.037283Z",
          "iopub.status.idle": "2024-12-07T10:14:39.050209Z",
          "shell.execute_reply.started": "2024-12-07T10:14:39.037259Z",
          "shell.execute_reply": "2024-12-07T10:14:39.049349Z"
        },
        "id": "x-07ZVv7o1L5"
      },
      "outputs": [],
      "execution_count": null
    },
    {
      "cell_type": "code",
      "source": [
        "# Hyperparameters\n",
        "latent_dim = 100           # Latent vector size\n",
        "channels_img = 3           # Image channels (e.g., 3 for RGB)\n",
        "lr = 0.0002                # Learning rate\n",
        "betas = (0.5, 0.999)       # Beta values for Adam optimizer\n",
        "num_epochs = 300           # Number of epochs\n",
        "batch_size = 128            # Batch size\n",
        "checkpoint_dir = \"./checkpoints\"  # Directory to save models\n",
        "\n",
        "# Device\n",
        "device = torch.device(\"cuda\" if torch.cuda.is_available() else \"cpu\")\n",
        "print(f\"Using device: {device}\")\n"
      ],
      "metadata": {
        "trusted": true,
        "execution": {
          "iopub.status.busy": "2024-12-07T10:14:51.663915Z",
          "iopub.execute_input": "2024-12-07T10:14:51.66427Z",
          "iopub.status.idle": "2024-12-07T10:14:51.670653Z",
          "shell.execute_reply.started": "2024-12-07T10:14:51.664238Z",
          "shell.execute_reply": "2024-12-07T10:14:51.669662Z"
        },
        "id": "JF5KUTPNo1L5"
      },
      "outputs": [],
      "execution_count": null
    },
    {
      "cell_type": "code",
      "source": [
        "# Updated DCGAN Generator\n",
        "class Generator(nn.Module):\n",
        "    def __init__(self, z_dim, channels_img):\n",
        "        super(Generator, self).__init__()\n",
        "        self.gen = nn.Sequential(\n",
        "            # Input: z_dim x 1 x 1 (latent vector)\n",
        "            nn.ConvTranspose2d(z_dim, 512, kernel_size=4, stride=1, padding=0),  # Output: (512, 4, 4)\n",
        "            nn.BatchNorm2d(512),\n",
        "            nn.ReLU(True),\n",
        "\n",
        "            nn.ConvTranspose2d(512, 256, kernel_size=4, stride=2, padding=1),  # Output: (256, 8, 8)\n",
        "            nn.BatchNorm2d(256),\n",
        "            nn.ReLU(True),\n",
        "\n",
        "            nn.ConvTranspose2d(256, 128, kernel_size=4, stride=2, padding=1),  # Output: (128, 16, 16)\n",
        "            nn.BatchNorm2d(128),\n",
        "            nn.ReLU(True),\n",
        "\n",
        "            nn.ConvTranspose2d(128, 64, kernel_size=4, stride=2, padding=1),  # Output: (64, 32, 32)\n",
        "            nn.BatchNorm2d(64),\n",
        "            nn.ReLU(True),\n",
        "\n",
        "            nn.ConvTranspose2d(64, channels_img, kernel_size=4, stride=2, padding=1),  # Output: (channels_img, 64, 64)\n",
        "            nn.Tanh()  # Tanh activation to get output in range [-1, 1]\n",
        "        )\n",
        "\n",
        "    def forward(self, x):\n",
        "        return self.gen(x)\n",
        "\n",
        "\n",
        "# Updated DCGAN Discriminator\n",
        "class Discriminator(nn.Module):\n",
        "    def __init__(self, channels_img):\n",
        "        super(Discriminator, self).__init__()\n",
        "        self.disc = nn.Sequential(\n",
        "            # Input: (channels_img, 64, 64)\n",
        "            nn.Conv2d(channels_img, 64, kernel_size=4, stride=2, padding=1),  # Output: (64, 32, 32)\n",
        "            nn.LeakyReLU(0.2),\n",
        "\n",
        "            nn.Conv2d(64, 128, kernel_size=4, stride=2, padding=1),  # Output: (128, 16, 16)\n",
        "            nn.BatchNorm2d(128),\n",
        "            nn.LeakyReLU(0.2),\n",
        "\n",
        "            nn.Conv2d(128, 256, kernel_size=4, stride=2, padding=1),  # Output: (256, 8, 8)\n",
        "            nn.BatchNorm2d(256),\n",
        "            nn.LeakyReLU(0.2),\n",
        "\n",
        "            nn.Conv2d(256, 512, kernel_size=4, stride=2, padding=1),  # Output: (512, 4, 4)\n",
        "            nn.BatchNorm2d(512),\n",
        "            nn.LeakyReLU(0.2),\n",
        "\n",
        "            nn.Conv2d(512, 1, kernel_size=4, stride=1, padding=0),  # Output: (1, 1, 1) - Real/Fake scalar\n",
        "            nn.Sigmoid()  # Sigmoid activation for binary classification\n",
        "        )\n",
        "\n",
        "    def forward(self, x):\n",
        "        return self.disc(x).view(-1)\n",
        "\n",
        "\n",
        "# Initialize Generator and Discriminator\n",
        "gen = Generator(latent_dim, channels_img).to(device)\n",
        "disc = Discriminator(channels_img).to(device)\n",
        "\n",
        "# Optimizers\n",
        "optimizer_G = optim.Adam(gen.parameters(), lr=lr, betas=(0.5, 0.999))\n",
        "optimizer_D = optim.Adam(disc.parameters(), lr=lr, betas=(0.5, 0.999))\n",
        "\n",
        "# Loss function\n",
        "criterion = nn.BCELoss()\n",
        "\n",
        "# Fixed noise for generating images during training\n",
        "fixed_noise = torch.randn(16, latent_dim, 1, 1).to(device)\n",
        "\n",
        "# Training Loop\n",
        "for epoch in range(num_epochs):\n",
        "    for real_imgs in train_loader:\n",
        "        real_imgs = real_imgs.to(device)  # Move real images to GPU\n",
        "        current_batch_size = real_imgs.size(0)\n",
        "\n",
        "        # Train Discriminator: Maximize log(D(x)) + log(1 - D(G(z)))\n",
        "        optimizer_D.zero_grad()\n",
        "\n",
        "        # Real images (label = 1)\n",
        "        real_labels = torch.ones(current_batch_size, 1).to(device).squeeze()\n",
        "        fake_labels = torch.zeros(current_batch_size, 1).to(device).squeeze()\n",
        "\n",
        "        real_outputs = disc(real_imgs)\n",
        "        real_loss = criterion(real_outputs, real_labels)\n",
        "\n",
        "        # Fake images (label = 0)\n",
        "        z = torch.randn(current_batch_size, latent_dim, 1, 1).to(device)  # Move noise to GPU\n",
        "        fake_imgs = gen(z)\n",
        "        fake_outputs = disc(fake_imgs.detach())\n",
        "        fake_loss = criterion(fake_outputs, fake_labels)\n",
        "\n",
        "        d_loss = real_loss + fake_loss\n",
        "        d_loss.backward()\n",
        "        optimizer_D.step()\n",
        "\n",
        "        # Train Generator: Maximize log(D(G(z)))\n",
        "        optimizer_G.zero_grad()\n",
        "\n",
        "        fake_outputs = disc(fake_imgs)\n",
        "        g_loss = criterion(fake_outputs, real_labels)  # Want generator to trick the discriminator\n",
        "\n",
        "        g_loss.backward()\n",
        "        optimizer_G.step()\n",
        "\n",
        "    # Print losses and generate images every 10 epochs\n",
        "    if (epoch + 1) % 10 == 0:\n",
        "        print(f\"Epoch [{epoch+1}/{num_epochs}] | D Loss: {d_loss.item():.4f} | G Loss: {g_loss.item():.4f}\")\n",
        "\n",
        "        # Save generated images\n",
        "        with torch.no_grad():\n",
        "            fake_imgs = gen(fixed_noise).detach().cpu()\n",
        "            grid_img = utils.make_grid(fake_imgs, normalize=True)\n",
        "\n",
        "            # Display images\n",
        "            plt.figure(figsize=(10, 10))\n",
        "            plt.title(f\"Generated Images at Epoch {epoch+1}\")\n",
        "            plt.imshow(grid_img.permute(1, 2, 0))\n",
        "            plt.axis('off')\n",
        "            plt.show()\n",
        "\n",
        "# Save final model checkpoints\n",
        "torch.save(gen.state_dict(), os.path.join(checkpoint_dir, 'generator.pth'))\n",
        "torch.save(disc.state_dict(), os.path.join(checkpoint_dir, 'discriminator.pth'))"
      ],
      "metadata": {
        "trusted": true,
        "execution": {
          "iopub.status.busy": "2024-12-07T10:15:15.901971Z",
          "iopub.execute_input": "2024-12-07T10:15:15.902348Z"
        },
        "id": "SpLKUZSPo1L5"
      },
      "outputs": [],
      "execution_count": null
    },
    {
      "cell_type": "code",
      "source": [],
      "metadata": {
        "trusted": true,
        "id": "pbtc4-Ldo1L6"
      },
      "outputs": [],
      "execution_count": null
    }
  ]
}